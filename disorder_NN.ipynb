{
 "cells": [
  {
   "cell_type": "markdown",
   "metadata": {},
   "source": [
    "# Mental Disorder Classification using Neural Networks\n",
    "\n",
    "This notebook demonstrates how to build a feed forward neural network (FNN) to classify mental disorders using a dataset from Kaggle.\n",
    "\n",
    "## Table of Contents\n",
    "1. Introduction\n",
    "2. Data Loading and Preprocessing\n",
    "3. Exploratory Data Analysis (EDA)\n",
    "4. Neural Network Model\n",
    "5. Model Training\n",
    "6. Model Evaluation\n",
    "7. Conclusion and Future Work"
   ]
  },
  {
   "cell_type": "markdown",
   "metadata": {},
   "source": [
    "## 1. Introduction\n",
    "This section provides an overview of the project and the objectives."
   ]
  },
  {
   "cell_type": "markdown",
   "metadata": {},
   "source": [
    "## 2. Data Loading and Preprocessing\n",
    "Import necessary libraries"
   ]
  },
  {
   "cell_type": "code",
   "execution_count": 1,
   "metadata": {},
   "outputs": [],
   "source": [
    "# Standard libraries\n",
    "import os\n",
    "import time\n",
    "import warnings\n",
    "warnings.filterwarnings('ignore')\n",
    "\n",
    "# Data manipulation\n",
    "import numpy as np\n",
    "import pandas as pd\n",
    "\n",
    "# Data visualization\n",
    "import matplotlib.pyplot as plt\n",
    "import seaborn as sns\n",
    "import plotly.express as px \n",
    "import plotly.subplots as sp\n",
    "import plotly.graph_objs as go \n",
    "\n",
    "# Machine learning and preprocessing\n",
    "from sklearn.model_selection import train_test_split\n",
    "from sklearn.preprocessing import normalize, StandardScaler, LabelEncoder, OneHotEncoder\n",
    "from sklearn.metrics import confusion_matrix\n",
    "\n",
    "# TensorFlow and Keras\n",
    "import tensorflow as tf \n",
    "from tensorflow.keras.models import Sequential\n",
    "from tensorflow.keras.layers import Dense, Dropout\n",
    "from tensorflow.keras.utils import to_categorical\n",
    "from tensorflow.keras import backend as K\n",
    "\n",
    "import keras\n",
    "from keras.models import Sequential\n",
    "from keras.layers import Dense, Conv2D, MaxPooling2D, Flatten, BatchNormalization, Dropout\n",
    "from keras.callbacks import ModelCheckpoint\n",
    "\n",
    "# Set seeds for reproducibility\n",
    "np.random.seed(6594)\n",
    "tf.random.set_seed(6594)"
   ]
  },
  {
   "cell_type": "code",
   "execution_count": 2,
   "metadata": {},
   "outputs": [
    {
     "name": "stderr",
     "output_type": "stream",
     "text": [
      "Failed to detect the name of this notebook, you can set it manually with the WANDB_NOTEBOOK_NAME environment variable to enable code saving.\n",
      "wandb: Currently logged in as: zcherry (ch3rry). Use `wandb login --relogin` to force relogin\n"
     ]
    },
    {
     "data": {
      "text/plain": [
       "True"
      ]
     },
     "execution_count": 2,
     "metadata": {},
     "output_type": "execute_result"
    }
   ],
   "source": [
    "# Import wandb for experiment tracking and logging\n",
    "import wandb\n",
    "from wandb.integration.keras import WandbCallback\n",
    "\n",
    "# Login to Weights & Biases to track experiments and log metrics\n",
    "wandb.login()"
   ]
  },
  {
   "cell_type": "markdown",
   "metadata": {},
   "source": [
    "### Read in The Data"
   ]
  },
  {
   "cell_type": "code",
   "execution_count": 3,
   "metadata": {},
   "outputs": [],
   "source": [
    "# Read in the data\n",
    "disorders = pd.read_csv(\"clean_data.csv\", index_col='subid')"
   ]
  },
  {
   "cell_type": "markdown",
   "metadata": {},
   "source": [
    "### Data Preprocessing"
   ]
  },
  {
   "cell_type": "code",
   "execution_count": 4,
   "metadata": {},
   "outputs": [],
   "source": [
    "# Define the mappings for categorical values\n",
    "mappings = {\n",
    "    'binary': {'yes': 0, 'no': 1},\n",
    "    'multi_class': {'most-often': 0, 'usually': 1, 'sometimes': 2, 'seldom': 3}\n",
    "}\n",
    "\n",
    "# Define the columns for each mapping type\n",
    "binary_columns = [\n",
    "    'mood_swing', 'suicidal_thoughts', 'anorexia', 'authority_respect', \n",
    "    'try_explain', 'aggressive_response', 'ignore_move_on', 'nervous_break_down', \n",
    "    'admit_mistakes', 'overthinking'\n",
    "]\n",
    "\n",
    "multi_class_columns = [\n",
    "    'sadness', 'euphoric', 'exhausted', 'sleep_dissorder'\n",
    "]\n",
    "\n",
    "# Apply the mappings\n",
    "disorders.replace({col: mappings['binary'] for col in binary_columns}, inplace=True)\n",
    "disorders.replace({col: mappings['multi_class'] for col in multi_class_columns}, inplace=True)\n"
   ]
  },
  {
   "cell_type": "code",
   "execution_count": 5,
   "metadata": {},
   "outputs": [
    {
     "data": {
      "text/html": [
       "<div>\n",
       "<style scoped>\n",
       "    .dataframe tbody tr th:only-of-type {\n",
       "        vertical-align: middle;\n",
       "    }\n",
       "\n",
       "    .dataframe tbody tr th {\n",
       "        vertical-align: top;\n",
       "    }\n",
       "\n",
       "    .dataframe thead th {\n",
       "        text-align: right;\n",
       "    }\n",
       "</style>\n",
       "<table border=\"1\" class=\"dataframe\">\n",
       "  <thead>\n",
       "    <tr style=\"text-align: right;\">\n",
       "      <th></th>\n",
       "      <th>sadness</th>\n",
       "      <th>euphoric</th>\n",
       "      <th>exhausted</th>\n",
       "      <th>sleep_dissorder</th>\n",
       "      <th>mood_swing</th>\n",
       "      <th>suicidal_thoughts</th>\n",
       "      <th>anorexia</th>\n",
       "      <th>authority_respect</th>\n",
       "      <th>try_explain</th>\n",
       "      <th>aggressive_response</th>\n",
       "      <th>ignore_move_on</th>\n",
       "      <th>nervous_break_down</th>\n",
       "      <th>admit_mistakes</th>\n",
       "      <th>overthinking</th>\n",
       "      <th>sexual_activity</th>\n",
       "      <th>concentration</th>\n",
       "      <th>optimisim</th>\n",
       "      <th>diagnosis</th>\n",
       "    </tr>\n",
       "    <tr>\n",
       "      <th>subid</th>\n",
       "      <th></th>\n",
       "      <th></th>\n",
       "      <th></th>\n",
       "      <th></th>\n",
       "      <th></th>\n",
       "      <th></th>\n",
       "      <th></th>\n",
       "      <th></th>\n",
       "      <th></th>\n",
       "      <th></th>\n",
       "      <th></th>\n",
       "      <th></th>\n",
       "      <th></th>\n",
       "      <th></th>\n",
       "      <th></th>\n",
       "      <th></th>\n",
       "      <th></th>\n",
       "      <th></th>\n",
       "    </tr>\n",
       "  </thead>\n",
       "  <tbody>\n",
       "    <tr>\n",
       "      <th>patiant-01</th>\n",
       "      <td>1</td>\n",
       "      <td>3</td>\n",
       "      <td>2</td>\n",
       "      <td>2</td>\n",
       "      <td>0</td>\n",
       "      <td>0</td>\n",
       "      <td>1</td>\n",
       "      <td>1</td>\n",
       "      <td>0</td>\n",
       "      <td>1</td>\n",
       "      <td>1</td>\n",
       "      <td>0</td>\n",
       "      <td>0</td>\n",
       "      <td>0</td>\n",
       "      <td>3</td>\n",
       "      <td>3</td>\n",
       "      <td>4</td>\n",
       "      <td>bipolar type-2</td>\n",
       "    </tr>\n",
       "    <tr>\n",
       "      <th>patiant-02</th>\n",
       "      <td>1</td>\n",
       "      <td>3</td>\n",
       "      <td>1</td>\n",
       "      <td>2</td>\n",
       "      <td>1</td>\n",
       "      <td>0</td>\n",
       "      <td>1</td>\n",
       "      <td>1</td>\n",
       "      <td>1</td>\n",
       "      <td>1</td>\n",
       "      <td>1</td>\n",
       "      <td>1</td>\n",
       "      <td>1</td>\n",
       "      <td>1</td>\n",
       "      <td>4</td>\n",
       "      <td>2</td>\n",
       "      <td>5</td>\n",
       "      <td>depression</td>\n",
       "    </tr>\n",
       "    <tr>\n",
       "      <th>patiant-03</th>\n",
       "      <td>2</td>\n",
       "      <td>0</td>\n",
       "      <td>2</td>\n",
       "      <td>2</td>\n",
       "      <td>0</td>\n",
       "      <td>1</td>\n",
       "      <td>1</td>\n",
       "      <td>1</td>\n",
       "      <td>0</td>\n",
       "      <td>0</td>\n",
       "      <td>1</td>\n",
       "      <td>0</td>\n",
       "      <td>0</td>\n",
       "      <td>1</td>\n",
       "      <td>6</td>\n",
       "      <td>5</td>\n",
       "      <td>7</td>\n",
       "      <td>bipolar type-1</td>\n",
       "    </tr>\n",
       "    <tr>\n",
       "      <th>patiant-04</th>\n",
       "      <td>1</td>\n",
       "      <td>3</td>\n",
       "      <td>1</td>\n",
       "      <td>0</td>\n",
       "      <td>0</td>\n",
       "      <td>0</td>\n",
       "      <td>0</td>\n",
       "      <td>1</td>\n",
       "      <td>0</td>\n",
       "      <td>1</td>\n",
       "      <td>1</td>\n",
       "      <td>1</td>\n",
       "      <td>1</td>\n",
       "      <td>1</td>\n",
       "      <td>3</td>\n",
       "      <td>2</td>\n",
       "      <td>2</td>\n",
       "      <td>bipolar type-2</td>\n",
       "    </tr>\n",
       "    <tr>\n",
       "      <th>patiant-05</th>\n",
       "      <td>1</td>\n",
       "      <td>1</td>\n",
       "      <td>2</td>\n",
       "      <td>2</td>\n",
       "      <td>1</td>\n",
       "      <td>1</td>\n",
       "      <td>1</td>\n",
       "      <td>1</td>\n",
       "      <td>1</td>\n",
       "      <td>1</td>\n",
       "      <td>1</td>\n",
       "      <td>0</td>\n",
       "      <td>0</td>\n",
       "      <td>0</td>\n",
       "      <td>5</td>\n",
       "      <td>5</td>\n",
       "      <td>6</td>\n",
       "      <td>no diagnosis</td>\n",
       "    </tr>\n",
       "  </tbody>\n",
       "</table>\n",
       "</div>"
      ],
      "text/plain": [
       "            sadness  euphoric  exhausted  sleep_dissorder  mood_swing  \\\n",
       "subid                                                                   \n",
       "patiant-01        1         3          2                2           0   \n",
       "patiant-02        1         3          1                2           1   \n",
       "patiant-03        2         0          2                2           0   \n",
       "patiant-04        1         3          1                0           0   \n",
       "patiant-05        1         1          2                2           1   \n",
       "\n",
       "            suicidal_thoughts  anorexia  authority_respect  try_explain  \\\n",
       "subid                                                                     \n",
       "patiant-01                  0         1                  1            0   \n",
       "patiant-02                  0         1                  1            1   \n",
       "patiant-03                  1         1                  1            0   \n",
       "patiant-04                  0         0                  1            0   \n",
       "patiant-05                  1         1                  1            1   \n",
       "\n",
       "            aggressive_response  ignore_move_on  nervous_break_down  \\\n",
       "subid                                                                 \n",
       "patiant-01                    1               1                   0   \n",
       "patiant-02                    1               1                   1   \n",
       "patiant-03                    0               1                   0   \n",
       "patiant-04                    1               1                   1   \n",
       "patiant-05                    1               1                   0   \n",
       "\n",
       "            admit_mistakes  overthinking  sexual_activity  concentration  \\\n",
       "subid                                                                      \n",
       "patiant-01               0             0                3              3   \n",
       "patiant-02               1             1                4              2   \n",
       "patiant-03               0             1                6              5   \n",
       "patiant-04               1             1                3              2   \n",
       "patiant-05               0             0                5              5   \n",
       "\n",
       "            optimisim       diagnosis  \n",
       "subid                                  \n",
       "patiant-01          4  bipolar type-2  \n",
       "patiant-02          5      depression  \n",
       "patiant-03          7  bipolar type-1  \n",
       "patiant-04          2  bipolar type-2  \n",
       "patiant-05          6    no diagnosis  "
      ]
     },
     "execution_count": 5,
     "metadata": {},
     "output_type": "execute_result"
    }
   ],
   "source": [
    "# Check to make sure that the changes took effect properly\n",
    "disorders.head(5)"
   ]
  },
  {
   "cell_type": "markdown",
   "metadata": {},
   "source": [
    "## 3. Exploratory Data Analysis (EDA)\n",
    "Visualize the distribution of the target variable before splitting the data"
   ]
  },
  {
   "cell_type": "code",
   "execution_count": 6,
   "metadata": {},
   "outputs": [
    {
     "data": {
      "image/png": "[encoded data removed]",
      "text/plain": [
       "<Figure size 1000x600 with 1 Axes>"
      ]
     },
     "metadata": {},
     "output_type": "display_data"
    }
   ],
   "source": [
    "# Count the number of participants in each diagnosis group\n",
    "diagnosis_counts = disorders['diagnosis'].value_counts()\n",
    "\n",
    "# Create the bar plot\n",
    "plt.figure(figsize=(10, 6))\n",
    "sns.barplot(x=diagnosis_counts.index, y=diagnosis_counts.values, palette='viridis')\n",
    "plt.xlabel('Diagnosis')\n",
    "plt.ylabel('Number of Participants')\n",
    "plt.title('Number of Participants in Each Diagnosis Group')\n",
    "plt.xticks(rotation=45)\n",
    "plt.tight_layout()\n",
    "plt.show()"
   ]
  },
  {
   "cell_type": "code",
   "execution_count": 7,
   "metadata": {},
   "outputs": [],
   "source": [
    "# Separate features and target\n",
    "X = disorders.drop('diagnosis', axis=1).values\n",
    "y = disorders['diagnosis'].values\n",
    "\n",
    "# Encode the target labels\n",
    "label_encoder = LabelEncoder()\n",
    "y_encoded = label_encoder.fit_transform(y)\n",
    "y_categorical = to_categorical(y_encoded)\n",
    "\n",
    "# Standardize the features\n",
    "scaler = StandardScaler()\n",
    "x_scaled = scaler.fit_transform(X)\n",
    "\n",
    "# Split the data\n",
    "x_trn, x_test, y_trn, y_test = train_test_split(x_scaled, y_categorical, test_size=0.2, random_state=6594)\n",
    "\n",
    "# Examine the distribution of diagnoses in the training set\n",
    "# Convert y_trn from one-hot encoded format to integer labels\n",
    "y_trn_labels = np.argmax(y_trn, axis=1)\n",
    "# Count the occurrences of each diagnosis\n",
    "label_counts = np.bincount(y_trn_labels)\n",
    "diagnosis_labels = label_encoder.classes_"
   ]
  },
  {
   "cell_type": "code",
   "execution_count": 8,
   "metadata": {},
   "outputs": [
    {
     "name": "stdout",
     "output_type": "stream",
     "text": [
      "x training is of type <class 'numpy.ndarray'>\n",
      "y training is of type <class 'numpy.ndarray'>\n",
      "x training contains data of type float64\n",
      "y training contains data of type float64\n",
      "x training has shape (96, 17)\n",
      "y training has shape (96, 4)\n"
     ]
    }
   ],
   "source": [
    "print(\"x training is of type \" + str(type(x_trn)))\n",
    "print(\"y training is of type \" + str(type(y_trn)))\n",
    "\n",
    "print(\"x training contains data of type \" + str(x_trn.dtype))\n",
    "print(\"y training contains data of type \" + str(y_trn.dtype))\n",
    "\n",
    "print(\"x training has shape \" + str(x_trn.shape))\n",
    "print(\"y training has shape \" + str(y_trn.shape))"
   ]
  },
  {
   "cell_type": "markdown",
   "metadata": {},
   "source": [
    "## 4. Neural Network Model"
   ]
  },
  {
   "cell_type": "markdown",
   "metadata": {},
   "source": [
    "### Define the Sweep"
   ]
  },
  {
   "cell_type": "code",
   "execution_count": 9,
   "metadata": {},
   "outputs": [
    {
     "data": {
      "text/html": [
       "Tracking run with wandb version 0.17.5"
      ],
      "text/plain": [
       "<IPython.core.display.HTML object>"
      ]
     },
     "metadata": {},
     "output_type": "display_data"
    },
    {
     "data": {
      "text/html": [
       "Run data is saved locally in <code>c:\\Documents\\GitHub\\disorder_classification\\wandb\\run-20240806_125502-cauaijpe</code>"
      ],
      "text/plain": [
       "<IPython.core.display.HTML object>"
      ]
     },
     "metadata": {},
     "output_type": "display_data"
    },
    {
     "data": {
      "text/html": [
       "Syncing run <strong><a href='https://wandb.ai/ch3rry/mental-disorder-classification/runs/cauaijpe' target=\"_blank\">vocal-snowflake-37</a></strong> to <a href='https://wandb.ai/ch3rry/mental-disorder-classification' target=\"_blank\">Weights & Biases</a> (<a href='https://wandb.me/run' target=\"_blank\">docs</a>)<br/>"
      ],
      "text/plain": [
       "<IPython.core.display.HTML object>"
      ]
     },
     "metadata": {},
     "output_type": "display_data"
    },
    {
     "data": {
      "text/html": [
       " View project at <a href='https://wandb.ai/ch3rry/mental-disorder-classification' target=\"_blank\">https://wandb.ai/ch3rry/mental-disorder-classification</a>"
      ],
      "text/plain": [
       "<IPython.core.display.HTML object>"
      ]
     },
     "metadata": {},
     "output_type": "display_data"
    },
    {
     "data": {
      "text/html": [
       " View run at <a href='https://wandb.ai/ch3rry/mental-disorder-classification/runs/cauaijpe' target=\"_blank\">https://wandb.ai/ch3rry/mental-disorder-classification/runs/cauaijpe</a>"
      ],
      "text/plain": [
       "<IPython.core.display.HTML object>"
      ]
     },
     "metadata": {},
     "output_type": "display_data"
    },
    {
     "data": {
      "text/html": [
       "<button onClick=\"this.nextSibling.style.display='block';this.style.display='none';\">Display W&B run</button><iframe src='https://wandb.ai/ch3rry/mental-disorder-classification/runs/cauaijpe?jupyter=true' style='border:none;width:100%;height:420px;display:none;'></iframe>"
      ],
      "text/plain": [
       "<wandb.sdk.wandb_run.Run at 0x2882b8abf50>"
      ]
     },
     "execution_count": 9,
     "metadata": {},
     "output_type": "execute_result"
    }
   ],
   "source": [
    "# Define the sweep\n",
    "sweep_config = {\n",
    "    'method': 'random',  # or 'grid', 'bayes'\n",
    "    'parameters': {\n",
    "        'epochs': {'values': [30, 50, 70, 100, 150, 300, 600]},\n",
    "        'batch_size': {'values': [16, 32, 64, 128]},\n",
    "        'learning_rate': {'values': [0.0001, 0.001, 0.01, 0.1]},\n",
    "        'num_layers': {'values': [1, 2, 3]},\n",
    "        'units_layer_1': {'values': [32, 64, 128, 256]},\n",
    "        'units_layer_2': {'values': [32, 64, 128, 256]},\n",
    "        'dropout_rate': {'values': [0.2, 0.3, 0.5, 0.7]},\n",
    "    }\n",
    "}\n",
    "\n",
    "# Initialize wandb\n",
    "wandb.init(project='mental-disorder-classification')"
   ]
  },
  {
   "cell_type": "markdown",
   "metadata": {},
   "source": [
    "### Build the Model"
   ]
  },
  {
   "cell_type": "code",
   "execution_count": 10,
   "metadata": {},
   "outputs": [],
   "source": [
    "# Define the model architecture function\n",
    "def build_model():\n",
    "    model = Sequential()\n",
    "    \n",
    "    units_layer_1 = wandb.config.get('units_layer_1', 64)\n",
    "    units_layer_2 = wandb.config.get('units_layer_2', 64)\n",
    "    dropout_rate = wandb.config.get('dropout_rate', 0.5)\n",
    "    num_layers = wandb.config.get('num_layers', 1)\n",
    "    learning_rate = wandb.config.get('learning_rate', 0.001)\n",
    "    \n",
    "    model.add(Dense(units_layer_1, input_dim=x_trn.shape[1], activation='relu'))\n",
    "    model.add(Dropout(dropout_rate))\n",
    "    \n",
    "    if num_layers > 1:\n",
    "        model.add(Dense(units_layer_2, activation='relu'))\n",
    "        model.add(Dropout(dropout_rate))\n",
    "        \n",
    "    model.add(Dense(y_categorical.shape[1], activation='softmax'))\n",
    "    \n",
    "    optimizer = tf.keras.optimizers.Adam(learning_rate=learning_rate)\n",
    "    model.compile(optimizer=optimizer, loss='categorical_crossentropy', metrics=['accuracy'])\n",
    "    return model"
   ]
  },
  {
   "cell_type": "code",
   "execution_count": 11,
   "metadata": {},
   "outputs": [],
   "source": [
    "# Define the training function\n",
    "def train():\n",
    "    try:\n",
    "        model = build_model()\n",
    "        history = model.fit(x_trn, y_trn, \n",
    "                            validation_data=(x_test, y_test), \n",
    "                            epochs=wandb.config.get('epochs', 30), \n",
    "                            batch_size=wandb.config.get('batch_size', 32), \n",
    "                            callbacks=[WandbCallback()])\n",
    "        \n",
    "        # Evaluate the model\n",
    "        loss, accuracy = model.evaluate(x_test, y_test)\n",
    "        wandb.log({'validation_loss': loss, 'validation_accuracy': accuracy})\n",
    "    except Exception as e:\n",
    "        wandb.log({'error': str(e)})\n",
    "        print(f\"An error occurred: {e}\")"
   ]
  },
  {
   "cell_type": "code",
   "execution_count": null,
   "metadata": {},
   "outputs": [],
   "source": [
    "# Run the sweep\n",
    "sweep_id = wandb.sweep(sweep_config, project='mental-disorder-classification')\n",
    "wandb.agent(sweep_id, train) "
   ]
  },
  {
   "cell_type": "markdown",
   "metadata": {},
   "source": [
    "## 5. Model Training\n",
    "Train the model"
   ]
  },
  {
   "cell_type": "markdown",
   "metadata": {},
   "source": [
    "## 6. Model Evaluation\n",
    "Evaluate the model on the test set"
   ]
  },
  {
   "cell_type": "code",
   "execution_count": null,
   "metadata": {},
   "outputs": [],
   "source": [
    "#Look at the training loss over time using the plot function from matplotlib loaded above:\n",
    "plt.plot(H.history['loss'])"
   ]
  },
  {
   "cell_type": "code",
   "execution_count": null,
   "metadata": {},
   "outputs": [],
   "source": [
    "rum.predict(x=xtrn)"
   ]
  },
  {
   "cell_type": "code",
   "execution_count": null,
   "metadata": {},
   "outputs": [],
   "source": [
    "#Code here for analyzing model behavior\n",
    "#As an example, let's look at xor model internal representations\n",
    "\n",
    "#Create new model from parts of trained model to output hidden unit activations\n",
    "xrep = Model(inputs=xin, outputs=xhid)\n",
    "\n",
    "#Use this model to output hidden activations for the four input patterns\n",
    "xrep.predict(xtrn)"
   ]
  },
  {
   "cell_type": "code",
   "execution_count": null,
   "metadata": {},
   "outputs": [],
   "source": [
    "# Sample predictions and actual values\n",
    "predictions = sym.predict([input_test, query_test])\n",
    "\n",
    "# Create main figure and axes\n",
    "fig = plt.figure(figsize=(12, 8))\n",
    "gs = fig.add_gridspec(2, 2, width_ratios=[3, 1], height_ratios=[3, 1]) \n",
    "\n",
    "# Main plot area\n",
    "ax_main = fig.add_subplot(gs[0, 0])\n",
    "ax_main.plot(predictions[:, 0], 'o', label='Predicted Values', color='blue')\n",
    "ax_main.plot(att_patts[:, 0], 'x', label='Actual Values', color='red')\n",
    "ax_main.set_xlabel('Index')\n",
    "ax_main.set_ylabel('Values')\n",
    "ax_main.set_title('Predicted and Actual Values')\n",
    "ax_main.legend()\n",
    "ax_main.grid(True)"
   ]
  },
  {
   "cell_type": "markdown",
   "metadata": {},
   "source": [
    "## 7. Conclusion and Future Work\n",
    "Summarize findings and discuss potential improvements"
   ]
  }
 ],
 "metadata": {
  "kernelspec": {
   "display_name": "datascience",
   "language": "python",
   "name": "python3"
  },
  "language_info": {
   "codemirror_mode": {
    "name": "ipython",
    "version": 3
   },
   "file_extension": ".py",
   "mimetype": "text/x-python",
   "name": "python",
   "nbconvert_exporter": "python",
   "pygments_lexer": "ipython3",
   "version": "3.12.4"
  }
 },
 "nbformat": 4,
 "nbformat_minor": 2
}
